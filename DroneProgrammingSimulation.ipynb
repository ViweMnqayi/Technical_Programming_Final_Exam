{
  "nbformat": 4,
  "nbformat_minor": 0,
  "metadata": {
    "colab": {
      "provenance": []
    },
    "kernelspec": {
      "name": "python3",
      "display_name": "Python 3"
    },
    "language_info": {
      "name": "python"
    }
  },
  "cells": [
    {
      "cell_type": "markdown",
      "source": [
        "1. How We Simulate Drone Visiting Hotspots"
      ],
      "metadata": {
        "id": "NON46t6jSq7B"
      }
    },
    {
      "cell_type": "markdown",
      "source": [
        "What we do:\n",
        "\n",
        "Our computer finds crime hotspots using smart math (machine learning)\n",
        "\n",
        "We tell the drone to fly to these crime spots and look around\n",
        "\n",
        "The drone follows a smart path to visit all spots quickly"
      ],
      "metadata": {
        "id": "zBv6G3zwUmyE"
      }
    },
    {
      "cell_type": "code",
      "source": [
        "# Our crime hotspots from the analysis\n",
        "crime_spots = [\"spot1\", \"spot2\", \"spot3\", \"spot4\"]\n",
        "\n",
        "# Drone visits each spot\n",
        "for spot in crime_spots:\n",
        "    drone.fly_to(spot)\n",
        "    drone.take_pictures()\n",
        "    drone.look_for_crime()"
      ],
      "metadata": {
        "id": "rFdhxed8UzG1"
      },
      "execution_count": null,
      "outputs": []
    },
    {
      "cell_type": "markdown",
      "source": [
        "Adding Crime Hotspots"
      ],
      "metadata": {
        "id": "YrQ2EggRU-E7"
      }
    },
    {
      "cell_type": "code",
      "source": [
        "# Create a 1km x 1km grid with 100m squares\n",
        "for x in range(0, 1000, 100):    # 0 to 1000 meters\n",
        "    for y in range(0, 1000, 100):\n",
        "        print(f\"Grid point: ({x}m, {y}m)\")"
      ],
      "metadata": {
        "id": "8TVZUU87U5qO"
      },
      "execution_count": null,
      "outputs": []
    },
    {
      "cell_type": "markdown",
      "source": [
        "Nearest Spot First"
      ],
      "metadata": {
        "id": "7Z3k__xjVnT3"
      }
    },
    {
      "cell_type": "code",
      "source": [
        "# Simple nearest-neighbor path\n",
        "def simple_drone_path(hotspots):\n",
        "    path = []\n",
        "    current_position = (0, 0)  # Start position\n",
        "\n",
        "    while hotspots:\n",
        "        # Find closest hotspot\n",
        "        closest = find_closest_spot(current_position, hotspots)\n",
        "        path.append(closest)\n",
        "        current_position = closest\n",
        "        hotspots.remove(closest)\n",
        "\n",
        "    return path"
      ],
      "metadata": {
        "id": "wM6qpZ1lVoWy"
      },
      "execution_count": null,
      "outputs": []
    },
    {
      "cell_type": "markdown",
      "source": [
        "A brief discusion on the method I would use to fly a drone and its benefits"
      ],
      "metadata": {
        "id": "7Mw6lCKyY_E4"
      }
    },
    {
      "cell_type": "markdown",
      "source": [
        "Why Hybrid Works Best:\n",
        "\n",
        "Use Lawnmower pattern for routine patrols in high-risk areas\n",
        "\n",
        "Switch to Nearest Spot when crime alerts come in\n",
        "\n",
        "This gives both prevention and rapid response\n",
        "\n",
        "Smart Strategy:\n",
        "\n",
        "Night patrols: Lawnmower method to deter crime everywhere\n",
        "\n",
        "Crime alerts: Immediately switch to Nearest Spot for that location\n",
        "\n",
        "Height adjustment: Fly low (10m) for detailed viewing at crime spots, higher (15m) for patrols\n",
        "\n",
        "Benefits:\n",
        "\n",
        "Prevents crime through visible patrols\n",
        "\n",
        "Quickly responds to actual crimes\n",
        "\n",
        "Efficient use of battery and time\n",
        "\n",
        "Adapts to changing situations"
      ],
      "metadata": {
        "id": "hWtGhCKvY4iT"
      }
    }
  ]
}